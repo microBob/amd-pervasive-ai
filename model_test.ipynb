{
 "cells": [
  {
   "cell_type": "code",
   "execution_count": null,
   "metadata": {},
   "outputs": [],
   "source": [
    "%pip install -q transformers accelerate"
   ]
  },
  {
   "cell_type": "code",
   "execution_count": 1,
   "metadata": {},
   "outputs": [],
   "source": [
    "model_name = \"NousResearch/Hermes-2-Theta-Llama-3-8B\"\n",
    "system_prompt = \"You are a programmer that takes in sparse descriptions of a psychology experiment from a scientific paper and generates a PsychoPy Psyexp experiment file that can execute the described experiment.\"\n",
    "query = \"In this task participants are required to memorise and recall number series in order. Participants start out with three 3-digit sequences. If participants correctly recall 2 out of 3 three sequences, they progress to 4-digit sequence trials and so on. If participants respond incorrectly on 2/3 trials the experiment terminantes. This experiment is based on the original digit span experiment by Jacobs (1887).\""
   ]
  },
  {
   "cell_type": "code",
   "execution_count": 2,
   "metadata": {},
   "outputs": [
    {
     "name": "stderr",
     "output_type": "stream",
     "text": [
      "/opt/conda/envs/py_3.10/lib/python3.10/site-packages/tqdm/auto.py:21: TqdmWarning: IProgress not found. Please update jupyter and ipywidgets. See https://ipywidgets.readthedocs.io/en/stable/user_install.html\n",
      "  from .autonotebook import tqdm as notebook_tqdm\n"
     ]
    }
   ],
   "source": [
    "import torch\n",
    "from transformers import AutoModelForCausalLM, AutoTokenizer\n",
    "from os import environ"
   ]
  },
  {
   "cell_type": "code",
   "execution_count": 3,
   "metadata": {},
   "outputs": [
    {
     "name": "stdout",
     "output_type": "stream",
     "text": [
      "__CUDNN VERSION: 3001000\n",
      "__Number CUDA Devices: 1\n"
     ]
    }
   ],
   "source": [
    "environ[\"HIP_VISIBLE_DEVICES\"]=\"0\"\n",
    "\n",
    "use_cuda = torch.cuda.is_available()\n",
    "if use_cuda:\n",
    "    print('__CUDNN VERSION:', torch.backends.cudnn.version())\n",
    "    print('__Number CUDA Devices:', torch.cuda.device_count())\n",
    "    count = torch.cuda.device_count()"
   ]
  },
  {
   "cell_type": "code",
   "execution_count": 4,
   "metadata": {},
   "outputs": [
    {
     "name": "stderr",
     "output_type": "stream",
     "text": [
      "Special tokens have been added in the vocabulary, make sure the associated word embeddings are fine-tuned or trained.\n"
     ]
    }
   ],
   "source": [
    "tokenizer = AutoTokenizer.from_pretrained(model_name)"
   ]
  },
  {
   "cell_type": "code",
   "execution_count": 7,
   "metadata": {},
   "outputs": [
    {
     "name": "stderr",
     "output_type": "stream",
     "text": [
      "Downloading shards: 100%|██████████| 4/4 [02:24<00:00, 36.03s/it]\n",
      "Loading checkpoint shards: 100%|██████████| 4/4 [00:40<00:00, 10.03s/it]\n"
     ]
    }
   ],
   "source": [
    "model = AutoModelForCausalLM.from_pretrained(\n",
    "    model_name,\n",
    "    low_cpu_mem_usage=True,\n",
    "    return_dict=True,\n",
    "    torch_dtype=torch.float16,\n",
    "    device_map=\"auto\"\n",
    ")"
   ]
  },
  {
   "cell_type": "code",
   "execution_count": 8,
   "metadata": {},
   "outputs": [],
   "source": [
    "message = [\n",
    "    {\"role\": \"system\", \"content\": system_prompt},\n",
    "    {\"role\": \"user\", \"content\": query}\n",
    "]"
   ]
  },
  {
   "cell_type": "code",
   "execution_count": 6,
   "metadata": {},
   "outputs": [
    {
     "data": {
      "text/plain": [
       "'<|begin_of_text|><|im_start|>system\\nYou are a programmer that takes in sparse descriptions of a psychology experiment from a scientific paper and generates a PsychoPy Psyexp experiment file that can execute the described experiment.<|im_end|>\\n<|im_start|>user\\nIn this task participants are required to memorise and recall number series in order. Participants start out with three 3-digit sequences. If participants correctly recall 2 out of 3 three sequences, they progress to 4-digit sequence trials and so on. If participants respond incorrectly on 2/3 trials the experiment terminantes. This experiment is based on the original digit span experiment by Jacobs (1887).<|im_end|>\\n'"
      ]
     },
     "execution_count": 6,
     "metadata": {},
     "output_type": "execute_result"
    }
   ],
   "source": [
    "tokenizer.apply_chat_template(message, tokenize=False)"
   ]
  },
  {
   "cell_type": "code",
   "execution_count": 9,
   "metadata": {},
   "outputs": [],
   "source": [
    "input_ids = tokenizer.apply_chat_template(\n",
    "    message,\n",
    "    add_generation_prompt=True,\n",
    "    return_tensors=\"pt\"\n",
    ").to(model.device)\n",
    "terminators = [\n",
    "    tokenizer.eos_token_id,\n",
    "    tokenizer.convert_tokens_to_ids(\"<|eot_id|>\")\n",
    "]"
   ]
  },
  {
   "cell_type": "code",
   "execution_count": 10,
   "metadata": {},
   "outputs": [
    {
     "name": "stderr",
     "output_type": "stream",
     "text": [
      "The attention mask and the pad token id were not set. As a consequence, you may observe unexpected behavior. Please pass your input's `attention_mask` to obtain reliable results.\n",
      "Setting `pad_token_id` to `eos_token_id`:128003 for open-end generation.\n",
      "The attention mask is not set and cannot be inferred from input because pad token is same as eos token.As a consequence, you may observe unexpected behavior. Please pass your input's `attention_mask` to obtain reliable results.\n"
     ]
    }
   ],
   "source": [
    "outputs = model.generate(\n",
    "    input_ids,\n",
    "    eos_token_id=terminators,\n",
    "    do_sample=True,\n",
    "    temperature=0.8,\n",
    "    top_p=0.9,\n",
    "    max_new_tokens=1024,\n",
    ")"
   ]
  },
  {
   "cell_type": "code",
   "execution_count": 11,
   "metadata": {},
   "outputs": [
    {
     "name": "stdout",
     "output_type": "stream",
     "text": [
      "Here is a Python script that generates a PsychoPy experiment file for the described experiment:\n",
      "\n",
      "```python\n",
      "from psychopy import visual, core, data, event\n",
      "from psychopy.tools.filetools import fromFile, toFile\n",
      "import random\n",
      "\n",
      "# Experiment settings\n",
      "max_sequence_length = 6  # Maximum length of sequences\n",
      "min_sequence_length = 3  # Minimum length of sequences\n",
      "max_trials_per_length = 3  # Maximum number of trials per sequence length\n",
      "max_incorrect_trials = 2  # Maximum number of incorrect trials allowed\n",
      "\n",
      "# Window settings\n",
      "win = visual.Window(fullscr=True, color=[1, 1, 1], units='deg')\n",
      "\n",
      "# Initialize experiment\n",
      "exp = data.ExperimentHandler(name='Digit Span Experiment', version='1.0')\n",
      "\n",
      "# Instructions\n",
      "instr_text = '''\n",
      "Welcome to the Digit Span Experiment!\n",
      "\n",
      "In this experiment, you will be presented with a series of numbers. \n",
      "Please try to memorize the sequence and then recall it in the correct order.\n",
      "'''\n",
      "\n",
      "instr_text = visual.TextStim(win, text=instr_text, color=[0, 0, 0], height=20)\n",
      "instr_text.draw()\n",
      "win.flip()\n",
      "event.waitKeys(keyList=['space'])\n",
      "\n",
      "# Sequence generation\n",
      "def generate_sequence(length):\n",
      "    return [random.randint(0, 9) for _ in range(length)]\n",
      "\n",
      "# Experiment loop\n",
      "sequence_length = min_sequence_length\n",
      "trial_count = 0\n",
      "correct_count = 0\n",
      "\n",
      "while trial_count < max_trials_per_length and sequence_length <= max_sequence_length:\n",
      "    sequence = generate_sequence(sequence_length)\n",
      "    sequence_str = ''.join(str(digit) for digit in sequence)\n",
      "    \n",
      "    # Present sequence\n",
      "    seq_text = visual.TextStim(win, text=sequence_str, color=[0, 0, 0], height=40)\n",
      "    seq_text.draw()\n",
      "    win.flip()\n",
      "    core.wait(1.5)\n",
      "    win.flip()\n",
      "    \n",
      "    # Record response\n",
      "    response = ''\n",
      "    while len(response) < sequence_length:\n",
      "        keys = event.getKeys(keyList=['1', '2', '3', '4', '5', '6', '7', '8', '9', '0'])\n",
      "        if keys:\n",
      "            response += keys[0][0]\n",
      "        win.flip()\n",
      "    response = [int(digit) for digit in response]\n",
      "    \n",
      "    # Check response\n",
      "    if response == sequence:\n",
      "        correct_count += 1\n",
      "        print(f'Correct! {sequence_str}')\n",
      "    else:\n",
      "        trial_count += 1\n",
      "        print(f'Incorrect. {sequence_str} expected {response}, got {sequence}')\n",
      "    \n",
      "    # Increment sequence length\n",
      "    sequence_length += 1\n",
      "\n",
      "    if trial_count >= max_incorrect_trials or sequence_length > max_sequence_length:\n",
      "        break\n",
      "\n",
      "# End of experiment\n",
      "exp.finished = True\n",
      "exp.saveAsText(open(os.path.join(os.getcwd(), 'experiment_data.csv'), 'w'))\n",
      "\n",
      "win.close()\n",
      "core.quit()\n",
      "```\n",
      "\n",
      "This script generates a PsychoPy experiment that presents participants with sequences of digits and asks them to recall the sequences in the correct order. The experiment starts with 3-digit sequences and increases the length of the sequences if the participant correctly recalls at least two out of three sequences. The experiment terminates if the participant incorrectly responds on two out of three trials. The script saves the experiment data to a CSV file.\n"
     ]
    }
   ],
   "source": [
    "response = outputs[0][input_ids.shape[-1]:]\n",
    "print(tokenizer.decode(response, skip_special_tokens=True, clean_up_tokenization_spaces=True))"
   ]
  },
  {
   "cell_type": "code",
   "execution_count": null,
   "metadata": {},
   "outputs": [],
   "source": []
  }
 ],
 "metadata": {
  "kernelspec": {
   "display_name": "py_3.10",
   "language": "python",
   "name": "python3"
  },
  "language_info": {
   "codemirror_mode": {
    "name": "ipython",
    "version": 3
   },
   "file_extension": ".py",
   "mimetype": "text/x-python",
   "name": "python",
   "nbconvert_exporter": "python",
   "pygments_lexer": "ipython3",
   "version": "3.10.14"
  }
 },
 "nbformat": 4,
 "nbformat_minor": 2
}
